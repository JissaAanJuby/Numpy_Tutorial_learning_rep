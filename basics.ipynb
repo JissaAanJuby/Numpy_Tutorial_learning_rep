{
 "cells": [
  {
   "cell_type": "markdown",
   "id": "879682aa",
   "metadata": {},
   "source": [
    "NUMPY"
   ]
  },
  {
   "cell_type": "code",
   "execution_count": 1,
   "id": "8782bb9d",
   "metadata": {},
   "outputs": [],
   "source": [
    "import numpy as np"
   ]
  },
  {
   "cell_type": "code",
   "execution_count": 2,
   "id": "74c62116",
   "metadata": {},
   "outputs": [],
   "source": [
    "tuple=(1,2,3,)\n",
    "list =[1,2,3]"
   ]
  },
  {
   "cell_type": "code",
   "execution_count": 3,
   "id": "e98705ae",
   "metadata": {},
   "outputs": [],
   "source": [
    "arr_tuple = np.array(tuple)\n",
    "arr_list = np.array(list)"
   ]
  },
  {
   "cell_type": "code",
   "execution_count": 4,
   "id": "ba64f5bb",
   "metadata": {},
   "outputs": [
    {
     "name": "stdout",
     "output_type": "stream",
     "text": [
      "[1 2 3]\n",
      "[1 2 3]\n"
     ]
    }
   ],
   "source": [
    "print(arr_tuple)\n",
    "print(arr_list)"
   ]
  },
  {
   "cell_type": "code",
   "execution_count": 6,
   "id": "b1bcef7b",
   "metadata": {},
   "outputs": [
    {
     "name": "stdout",
     "output_type": "stream",
     "text": [
      "[[1 2 3]\n",
      " [2 3 4]\n",
      " [4 6 8]]\n",
      "2\n",
      "(3, 3)\n",
      "9\n",
      "<class 'numpy.ndarray'>\n",
      "1\n",
      "[[2 3]\n",
      " [3 4]\n",
      " [6 8]]\n"
     ]
    }
   ],
   "source": [
    "list=[[1,2,3],[2,3,4],[4,6,8]]\n",
    "arr_list = np.array(list)\n",
    "print(arr_list)\n",
    "print(arr_list.ndim)\n",
    "print(arr_list.shape)\n",
    "print(arr_list.size)\n",
    "print(type(arr_list))\n",
    "print(arr_list[0,0])\n",
    "print(arr_list[:,1:3])\n"
   ]
  },
  {
   "cell_type": "code",
   "execution_count": 8,
   "id": "f93a2a6f",
   "metadata": {},
   "outputs": [
    {
     "name": "stdout",
     "output_type": "stream",
     "text": [
      "[[0. 0. 0.]\n",
      " [0. 0. 0.]\n",
      " [0. 0. 0.]]\n"
     ]
    }
   ],
   "source": [
    "arr_zeroes = np.zeros((3,3))\n",
    "print(arr_zeroes)"
   ]
  },
  {
   "cell_type": "code",
   "execution_count": 9,
   "id": "1dd3af08",
   "metadata": {},
   "outputs": [
    {
     "name": "stdout",
     "output_type": "stream",
     "text": [
      "[[1. 1. 1.]\n",
      " [1. 1. 1.]\n",
      " [1. 1. 1.]]\n"
     ]
    }
   ],
   "source": [
    "arr_ones= np.ones((3,3))\n",
    "print(arr_ones)"
   ]
  },
  {
   "cell_type": "code",
   "execution_count": 10,
   "id": "ae303dc4",
   "metadata": {},
   "outputs": [
    {
     "name": "stdout",
     "output_type": "stream",
     "text": [
      "[[0.78663888 0.50293503 0.3550838 ]\n",
      " [0.33639297 0.01729082 0.47494543]\n",
      " [0.74251914 0.65208811 0.54238418]]\n"
     ]
    }
   ],
   "source": [
    "arr_random = np.random.random((3,3))\n",
    "print(arr_random)"
   ]
  },
  {
   "cell_type": "code",
   "execution_count": 12,
   "id": "1a243535",
   "metadata": {},
   "outputs": [
    {
     "name": "stdout",
     "output_type": "stream",
     "text": [
      "[[ 0.06488348 -0.68832246 -2.14392051]\n",
      " [ 0.61212421 -1.16574132 -0.48794307]\n",
      " [-0.11300069  0.61520837  0.66546427]]\n"
     ]
    }
   ],
   "source": [
    "arr_random = np.random.randn(3,3)\n",
    "print(arr_random)"
   ]
  },
  {
   "cell_type": "code",
   "execution_count": 18,
   "id": "52db84bb",
   "metadata": {},
   "outputs": [
    {
     "name": "stdout",
     "output_type": "stream",
     "text": [
      "[[0 2 0]\n",
      " [1 1 1]\n",
      " [1 0 2]]\n"
     ]
    }
   ],
   "source": [
    "arr_random = np.random.randint(low=0,high=3,size=arr_list.shape)\n",
    "print(arr_random)"
   ]
  },
  {
   "cell_type": "code",
   "execution_count": 20,
   "id": "92df6bd2",
   "metadata": {},
   "outputs": [
    {
     "name": "stdout",
     "output_type": "stream",
     "text": [
      "[ 0  2  4  6  8 10 12 14 16 18]\n"
     ]
    }
   ],
   "source": [
    "arr_range=np.arange(0,20,2)\n",
    "print(arr_range)"
   ]
  },
  {
   "cell_type": "code",
   "execution_count": 21,
   "id": "887054a5",
   "metadata": {},
   "outputs": [
    {
     "name": "stdout",
     "output_type": "stream",
     "text": [
      "[ 0.  2.  4.  6.  8. 10. 12. 14. 16. 18. 20.]\n"
     ]
    }
   ],
   "source": [
    "arr_space = np.linspace(0,20,11)\n",
    "print(arr_space)"
   ]
  },
  {
   "cell_type": "code",
   "execution_count": 22,
   "id": "4be9ff9d",
   "metadata": {},
   "outputs": [
    {
     "name": "stdout",
     "output_type": "stream",
     "text": [
      "[[ 0  2  4  6  8]\n",
      " [10 12 14 16 18]]\n"
     ]
    }
   ],
   "source": [
    "arr_range_reshaped = arr_range.reshape(2,5)\n",
    "print(arr_range_reshaped)"
   ]
  },
  {
   "cell_type": "code",
   "execution_count": 23,
   "id": "993f22c2",
   "metadata": {},
   "outputs": [
    {
     "name": "stdout",
     "output_type": "stream",
     "text": [
      "[ 0  2  4  6  8 10 12 14 16 18]\n"
     ]
    }
   ],
   "source": [
    "arr_range_flatten = arr_range_reshaped.flatten()\n",
    "print(arr_range_flatten)"
   ]
  },
  {
   "cell_type": "code",
   "execution_count": 29,
   "id": "a991b28d",
   "metadata": {},
   "outputs": [
    {
     "name": "stdout",
     "output_type": "stream",
     "text": [
      "[[1 2 3]\n",
      " [4 4 5]\n",
      " [5 6 8]]\n",
      "[[2 3 4]\n",
      " [5 5 6]\n",
      " [6 7 9]]\n",
      "[[0 1 2]\n",
      " [3 3 4]\n",
      " [4 5 7]]\n",
      "[[ 2  4  6]\n",
      " [ 8  8 10]\n",
      " [10 12 16]]\n",
      "[[0.5 1.  1.5]\n",
      " [2.  2.  2.5]\n",
      " [2.5 3.  4. ]]\n",
      "[[ 1  4  9]\n",
      " [16 16 25]\n",
      " [25 36 64]]\n",
      "[[1 4 5]\n",
      " [2 4 6]\n",
      " [3 5 8]]\n",
      "[[ 2  4  6]\n",
      " [ 8  8 10]\n",
      " [10 12 16]]\n",
      "[[ 24  28  37]\n",
      " [ 45  54  72]\n",
      " [ 69  82 109]]\n"
     ]
    }
   ],
   "source": [
    "arr=np.array([[1,2,3],[4,4,5],[5,6,8]])\n",
    "print(arr)\n",
    "print(arr + 1)\n",
    "print(arr - 1)\n",
    "print(arr * 2)\n",
    "print(arr / 2)\n",
    "print(arr ** 2)\n",
    "print(arr.T)\n",
    "print(arr + arr)\n",
    "print(np.dot(arr , arr))\n"
   ]
  },
  {
   "cell_type": "code",
   "execution_count": 30,
   "id": "c6a8b905",
   "metadata": {},
   "outputs": [
    {
     "name": "stdout",
     "output_type": "stream",
     "text": [
      "8\n",
      "1\n",
      "38\n"
     ]
    }
   ],
   "source": [
    "print(arr.max())\n",
    "print(arr.min())\n",
    "print(arr.sum())"
   ]
  },
  {
   "cell_type": "code",
   "execution_count": 31,
   "id": "28ba3ebf",
   "metadata": {},
   "outputs": [
    {
     "name": "stdout",
     "output_type": "stream",
     "text": [
      "[5 6 8]\n",
      "[3 5 8]\n"
     ]
    }
   ],
   "source": [
    "print(arr.max(axis=0))\n",
    "print(arr.max(axis=1))"
   ]
  },
  {
   "cell_type": "code",
   "execution_count": 32,
   "id": "5ac1ae7b",
   "metadata": {},
   "outputs": [
    {
     "name": "stdout",
     "output_type": "stream",
     "text": [
      "1.2246467991473532e-16\n",
      "-1.0\n",
      "7.38905609893065\n",
      "2.0\n",
      "2.0\n"
     ]
    }
   ],
   "source": [
    "print(np.sin(np.pi))\n",
    "print(np.cos(np.pi))\n",
    "print(np.exp(2))\n",
    "print(np.log(np.exp(2)))\n",
    "print(np.sqrt(4))"
   ]
  },
  {
   "cell_type": "code",
   "execution_count": 35,
   "id": "17815b9c",
   "metadata": {},
   "outputs": [
    {
     "name": "stdout",
     "output_type": "stream",
     "text": [
      "[1 4 5 5 6 7 7 7 9]\n",
      "[[1 5 7]\n",
      " [4 5 7]\n",
      " [7 6 9]]\n",
      "[[1 5 9]\n",
      " [4 5 7]\n",
      " [6 7 7]]\n",
      "[[False  True  True]\n",
      " [ True  True  True]\n",
      " [ True  True  True]]\n"
     ]
    }
   ],
   "source": [
    "arr = np.array([[1,5,9],[4,5,7],[7,6,7]])\n",
    "print(np.sort(arr,axis=None))\n",
    "print(np.sort(arr,axis=0))#col element sorting\n",
    "print(np.sort(arr,axis=1))#row element sorting\n",
    "print(arr>2)"
   ]
  },
  {
   "cell_type": "code",
   "execution_count": 37,
   "id": "5e9d3bd9",
   "metadata": {},
   "outputs": [
    {
     "name": "stdout",
     "output_type": "stream",
     "text": [
      "[5 9 4 5 7 7 6 7]\n"
     ]
    }
   ],
   "source": [
    "print(arr[arr>2])"
   ]
  },
  {
   "cell_type": "code",
   "execution_count": 38,
   "id": "399c4b83",
   "metadata": {},
   "outputs": [
    {
     "name": "stdout",
     "output_type": "stream",
     "text": [
      "[[0 5 9]\n",
      " [4 5 7]\n",
      " [7 6 7]]\n"
     ]
    }
   ],
   "source": [
    "print(np.where(arr>2,arr,0))"
   ]
  }
 ],
 "metadata": {
  "kernelspec": {
   "display_name": "Python 3",
   "language": "python",
   "name": "python3"
  },
  "language_info": {
   "codemirror_mode": {
    "name": "ipython",
    "version": 3
   },
   "file_extension": ".py",
   "mimetype": "text/x-python",
   "name": "python",
   "nbconvert_exporter": "python",
   "pygments_lexer": "ipython3",
   "version": "3.12.6"
  }
 },
 "nbformat": 4,
 "nbformat_minor": 5
}
